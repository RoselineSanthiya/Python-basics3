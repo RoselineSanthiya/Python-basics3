{
  "nbformat": 4,
  "nbformat_minor": 0,
  "metadata": {
    "colab": {
      "provenance": []
    },
    "kernelspec": {
      "name": "python3",
      "display_name": "Python 3"
    },
    "language_info": {
      "name": "python"
    }
  },
  "cells": [
    {
      "cell_type": "code",
      "execution_count": null,
      "metadata": {
        "colab": {
          "base_uri": "https://localhost:8080/"
        },
        "id": "01Pa72ZjGWdb",
        "outputId": "c097bf89-b793-4e15-ce97-6d6020a89ffc"
      },
      "outputs": [
        {
          "output_type": "execute_result",
          "data": {
            "text/plain": [
              "False"
            ]
          },
          "metadata": {},
          "execution_count": 1
        }
      ],
      "source": [
        "x=100\n",
        "y=150\n",
        "((x<70)&(y>100))|((x<100)&(y<150))"
      ]
    },
    {
      "cell_type": "code",
      "source": [
        "p=100\n",
        "y=100\n",
        "((p<=y)|(p>y))&((p<y)|(p>=y))"
      ],
      "metadata": {
        "colab": {
          "base_uri": "https://localhost:8080/"
        },
        "id": "3moKT8LhIX4_",
        "outputId": "c20d0507-ff66-47b3-aa1a-2a1ac98fd08c"
      },
      "execution_count": null,
      "outputs": [
        {
          "output_type": "execute_result",
          "data": {
            "text/plain": [
              "True"
            ]
          },
          "metadata": {},
          "execution_count": 2
        }
      ]
    },
    {
      "cell_type": "code",
      "source": [
        "a=500\n",
        "b=1000\n",
        "((a==b)|(a>100))|((a==500)&(a<b))"
      ],
      "metadata": {
        "colab": {
          "base_uri": "https://localhost:8080/"
        },
        "id": "fYVvkNedItub",
        "outputId": "32e4e707-cb7f-47c1-c4ef-d9f853fb0b35"
      },
      "execution_count": null,
      "outputs": [
        {
          "output_type": "execute_result",
          "data": {
            "text/plain": [
              "True"
            ]
          },
          "metadata": {},
          "execution_count": 6
        }
      ]
    },
    {
      "cell_type": "code",
      "source": [
        "x=15.5\n",
        "y=17.5\n",
        "z=20.15\n",
        "((x>z)&(y<=z))|((x==z)|(z<x))"
      ],
      "metadata": {
        "colab": {
          "base_uri": "https://localhost:8080/"
        },
        "id": "C3bYyHBEJR-V",
        "outputId": "888e2ca1-3871-41cc-a193-b1ff9e4f5904"
      },
      "execution_count": null,
      "outputs": [
        {
          "output_type": "execute_result",
          "data": {
            "text/plain": [
              "False"
            ]
          },
          "metadata": {},
          "execution_count": 8
        }
      ]
    },
    {
      "cell_type": "code",
      "source": [
        "m1=100\n",
        "m2=80\n",
        "(m2>80)\n",
        "(m1>80)\n",
        "((m2>80)&(m1>80))"
      ],
      "metadata": {
        "colab": {
          "base_uri": "https://localhost:8080/"
        },
        "id": "D_99zZWpKNNR",
        "outputId": "ab64ee9d-8d0a-412e-e101-4abfd5f300f8"
      },
      "execution_count": null,
      "outputs": [
        {
          "output_type": "execute_result",
          "data": {
            "text/plain": [
              "False"
            ]
          },
          "metadata": {},
          "execution_count": 12
        }
      ]
    },
    {
      "cell_type": "code",
      "source": [
        "a=\"true\"\n",
        "b=\"false\"\n",
        "print(\"a and b is\",a and b)"
      ],
      "metadata": {
        "colab": {
          "base_uri": "https://localhost:8080/"
        },
        "id": "WMvBmZ35NptG",
        "outputId": "41f3f3d7-5c38-4430-8fbd-002b019c19fa"
      },
      "execution_count": null,
      "outputs": [
        {
          "output_type": "stream",
          "name": "stdout",
          "text": [
            "a and b is false\n"
          ]
        }
      ]
    },
    {
      "cell_type": "code",
      "source": [
        "x=50\n",
        "print ('value of x is',x)\n",
        "y=100\n",
        "print ('value of y is',y)\n",
        "print (\"value of x<y is\",x<y)\n",
        "print (\"value of x!=y is\",x!=y)\n",
        "print (\"value of x<=y is\", x<=y)\n",
        "print (\"value of x>50 is \",x> 50)\n",
        "print (\"value of x<y is\", x<y)\n",
        "print (\"value of x>50&x<y is\",((x>50)&(x<y)))\n",
        "print (\"value of x!=y|x<=y is\",((x!=y)|(x<=y)))"
      ],
      "metadata": {
        "colab": {
          "base_uri": "https://localhost:8080/"
        },
        "id": "dOE5xlItO7Np",
        "outputId": "ae162314-c138-45b9-c260-a748d572bdfd"
      },
      "execution_count": null,
      "outputs": [
        {
          "output_type": "stream",
          "name": "stdout",
          "text": [
            "value of x is 50\n",
            "value of y is 100\n",
            "value of x<y is True\n",
            "value of x!=y is True\n",
            "value of x<=y is True\n",
            "value of x>50 is  False\n",
            "value of x<y is True\n",
            "value of x>50&x<y is False\n",
            "value of x!=y|x<=y is True\n"
          ]
        }
      ]
    },
    {
      "cell_type": "code",
      "source": [
        "x=55"
      ],
      "metadata": {
        "id": "POZVeOZ-Soty"
      },
      "execution_count": null,
      "outputs": []
    },
    {
      "cell_type": "code",
      "source": [
        "y=0.37"
      ],
      "metadata": {
        "id": "npAymnvkWfod"
      },
      "execution_count": null,
      "outputs": []
    },
    {
      "cell_type": "code",
      "source": [
        "z=\"o\"\n",
        "print(\"z\")\n",
        "z\n",
        "z=0.98\n",
        "z\n",
        "print ('z')"
      ],
      "metadata": {
        "colab": {
          "base_uri": "https://localhost:8080/"
        },
        "id": "Lu3CbeGjXOk1",
        "outputId": "9c98a754-ef5c-4bec-aaf7-a3bb7678f3c1"
      },
      "execution_count": null,
      "outputs": [
        {
          "output_type": "stream",
          "name": "stdout",
          "text": [
            "z\n",
            "z\n"
          ]
        }
      ]
    },
    {
      "cell_type": "code",
      "source": [
        "number56=3000"
      ],
      "metadata": {
        "id": "HmZV0TI3YGcO"
      },
      "execution_count": null,
      "outputs": []
    },
    {
      "cell_type": "code",
      "source": [
        "length=540.17"
      ],
      "metadata": {
        "id": "E3s0zBUJYf2B"
      },
      "execution_count": null,
      "outputs": []
    },
    {
      "cell_type": "code",
      "source": [
        "!taylor='instant'\n",
        "!!coffee=\"bru\"\n",
        "coffee=\"bru\""
      ],
      "metadata": {
        "id": "w8-etMeBYtD2"
      },
      "execution_count": null,
      "outputs": []
    },
    {
      "cell_type": "code",
      "source": [
        "thisvariable = 87.E02"
      ],
      "metadata": {
        "id": "6JNp7mxGZfW8"
      },
      "execution_count": null,
      "outputs": []
    },
    {
      "cell_type": "code",
      "source": [
        "float=0.17E-03\n",
        "print (float)"
      ],
      "metadata": {
        "colab": {
          "base_uri": "https://localhost:8080/"
        },
        "id": "JWa_dbA_a2jX",
        "outputId": "e2f7902f-e8c5-4313-873c-6d7a048ba7b8"
      },
      "execution_count": null,
      "outputs": [
        {
          "output_type": "stream",
          "name": "stdout",
          "text": [
            "0.00017\n"
          ]
        }
      ]
    },
    {
      "cell_type": "code",
      "source": [
        "coffee= \"sunrise\""
      ],
      "metadata": {
        "id": "6StuGwiSaIjg"
      },
      "execution_count": null,
      "outputs": []
    },
    {
      "cell_type": "code",
      "source": [
        "FLOAT=0.17E - 03\n",
        "print(FLOAT)"
      ],
      "metadata": {
        "colab": {
          "base_uri": "https://localhost:8080/",
          "height": 148
        },
        "id": "rjf937seboKv",
        "outputId": "217334bd-9d82-45f5-9a39-d70f6314eae0"
      },
      "execution_count": null,
      "outputs": [
        {
          "output_type": "error",
          "ename": "SyntaxError",
          "evalue": "ignored",
          "traceback": [
            "\u001b[0;36m  File \u001b[0;32m\"<ipython-input-1-8cb2839f7231>\"\u001b[0;36m, line \u001b[0;32m1\u001b[0m\n\u001b[0;31m    FLOAT=0.17E - 03\u001b[0m\n\u001b[0m              ^\u001b[0m\n\u001b[0;31mSyntaxError\u001b[0m\u001b[0;31m:\u001b[0m invalid syntax\n"
          ]
        }
      ]
    },
    {
      "cell_type": "code",
      "source": [
        "\n",
        "Coffee=21-7"
      ],
      "metadata": {
        "id": "9cqLtkIEd9DK"
      },
      "execution_count": null,
      "outputs": []
    },
    {
      "cell_type": "code",
      "source": [
        "X=10\n",
        "X=X+10\n",
        "X=X-5\n",
        "print (X)\n",
        "X,Y=X-2,22\n",
        "print (X,Y)"
      ],
      "metadata": {
        "colab": {
          "base_uri": "https://localhost:8080/"
        },
        "id": "uv9TI13hfD-l",
        "outputId": "c2ea1771-8ccc-4939-ab4b-5377f8f724ff"
      },
      "execution_count": null,
      "outputs": [
        {
          "output_type": "stream",
          "name": "stdout",
          "text": [
            "15\n",
            "13 22\n"
          ]
        }
      ]
    },
    {
      "cell_type": "code",
      "source": [
        "first=2\n",
        "second=3\n",
        "third=first*second\n",
        "print (first*second)\n",
        "first=first+second+third\n",
        "third=second*first\n",
        "print (first, second, third)"
      ],
      "metadata": {
        "colab": {
          "base_uri": "https://localhost:8080/"
        },
        "id": "eGvW8pFcfjbA",
        "outputId": "aceb8b70-e8ec-4e1e-9260-4b1d665aa6da"
      },
      "execution_count": null,
      "outputs": [
        {
          "output_type": "stream",
          "name": "stdout",
          "text": [
            "6\n",
            "11 3 33\n"
          ]
        }
      ]
    },
    {
      "cell_type": "code",
      "source": [
        "side=int(input (\"side\"))\n",
        "are=side*side\n",
        "print (side,area)"
      ],
      "metadata": {
        "colab": {
          "base_uri": "https://localhost:8080/"
        },
        "id": "zXSRbBJDgQLU",
        "outputId": "417c385d-5270-4bca-cb05-aa3f214adbfb"
      },
      "execution_count": null,
      "outputs": [
        {
          "output_type": "stream",
          "name": "stdout",
          "text": [
            "side7\n",
            "7 49\n"
          ]
        }
      ]
    },
    {
      "cell_type": "code",
      "source": [
        "a=3\n",
        "print (a)\n",
        "b=4\n",
        "print (b)\n",
        "s= a+b\n",
        "print (s)"
      ],
      "metadata": {
        "colab": {
          "base_uri": "https://localhost:8080/"
        },
        "id": "CoXoWyiYg189",
        "outputId": "4591cef0-e330-429c-c181-758a58db13f5"
      },
      "execution_count": null,
      "outputs": [
        {
          "output_type": "stream",
          "name": "stdout",
          "text": [
            "3\n",
            "4\n",
            "7\n"
          ]
        }
      ]
    },
    {
      "cell_type": "code",
      "source": [
        "name=\"Prejith\"\n",
        "age=26\n",
        "name=str(input(\"enter the value\"))\n",
        "age=int(input (\"enter the value\"))\n",
        "print (\"my name is\", name)\n",
        "print (\"my age is\", age)\n",
        "print (\"my name and age is\",name and age)"
      ],
      "metadata": {
        "colab": {
          "base_uri": "https://localhost:8080/"
        },
        "id": "GGHQgZ2ehWR4",
        "outputId": "6990b003-bb3e-49b9-d65f-11c9bc419935"
      },
      "execution_count": null,
      "outputs": [
        {
          "output_type": "stream",
          "name": "stdout",
          "text": [
            "enter the valuePrejith \n",
            "enter the value26\n",
            "my name is Prejith \n",
            "my age is 26\n",
            "my name and age is 26\n"
          ]
        }
      ]
    },
    {
      "cell_type": "code",
      "source": [
        "a=3\n",
        "s=a+10\n",
        "a=15\n",
        "q=a/10\n",
        "print (q)"
      ],
      "metadata": {
        "colab": {
          "base_uri": "https://localhost:8080/"
        },
        "id": "rnh9kkL0kkck",
        "outputId": "35507fe4-cc51-4cd3-d3d7-d26c164cb886"
      },
      "execution_count": null,
      "outputs": [
        {
          "output_type": "stream",
          "name": "stdout",
          "text": [
            "1.5\n"
          ]
        }
      ]
    },
    {
      "cell_type": "code",
      "source": [
        "x=40\n",
        "y=x+1\n",
        "x=20,y+x\n",
        "print (x,y)"
      ],
      "metadata": {
        "colab": {
          "base_uri": "https://localhost:8080/"
        },
        "id": "c-OE0bdplI00",
        "outputId": "ee1ac229-13ef-4e93-8d0b-4d201af76c96"
      },
      "execution_count": null,
      "outputs": [
        {
          "output_type": "stream",
          "name": "stdout",
          "text": [
            "(20, 81) 41\n"
          ]
        }
      ]
    },
    {
      "cell_type": "code",
      "source": [
        "x,y=20,60\n",
        "y,x,y=x,y-10,x+10\n",
        "print (x,y)"
      ],
      "metadata": {
        "colab": {
          "base_uri": "https://localhost:8080/"
        },
        "id": "eaRVYyQ7m2Qc",
        "outputId": "ba52e214-b985-40ed-83ee-6b79619525fe"
      },
      "execution_count": null,
      "outputs": [
        {
          "output_type": "stream",
          "name": "stdout",
          "text": [
            "50 30\n"
          ]
        }
      ]
    },
    {
      "cell_type": "code",
      "source": [
        "a,b=12,13\n",
        "c,b=a*2,a/2\n",
        "print (a,b,c)"
      ],
      "metadata": {
        "colab": {
          "base_uri": "https://localhost:8080/"
        },
        "id": "S5RoADk3nGcj",
        "outputId": "2caadf76-d1d4-4cfb-c829-decb626a7bf1"
      },
      "execution_count": null,
      "outputs": [
        {
          "output_type": "stream",
          "name": "stdout",
          "text": [
            "12 6.0 24\n"
          ]
        }
      ]
    },
    {
      "cell_type": "code",
      "source": [
        "a,b=12,13\n",
        "print(a+b)\n",
        "print (print (a+b))"
      ],
      "metadata": {
        "colab": {
          "base_uri": "https://localhost:8080/"
        },
        "id": "X6LTdKwDnSfo",
        "outputId": "359b891b-c285-49f5-8718-22a213fade7b"
      },
      "execution_count": null,
      "outputs": [
        {
          "output_type": "stream",
          "name": "stdout",
          "text": [
            "25\n",
            "25\n",
            "None\n"
          ]
        }
      ]
    },
    {
      "cell_type": "code",
      "source": [
        "a,b,c=10,20,30\n",
        "p,q,r=c-5,a+3,b-4\n",
        "print (\"a,b,c:\",a,b,c)\n",
        "print (\"p,q,r:\",p,q,r)"
      ],
      "metadata": {
        "colab": {
          "base_uri": "https://localhost:8080/"
        },
        "id": "mc3AR5H8nvBD",
        "outputId": "270cadb5-ea9f-4199-c5f5-5d8feb3107e6"
      },
      "execution_count": null,
      "outputs": [
        {
          "output_type": "stream",
          "name": "stdout",
          "text": [
            "a,b,c: 10 20 30\n",
            "p,q,r: 25 13 16\n"
          ]
        }
      ]
    },
    {
      "cell_type": "code",
      "source": [
        "y=x+5\n",
        "print (x,y)"
      ],
      "metadata": {
        "colab": {
          "base_uri": "https://localhost:8080/"
        },
        "id": "muYxUOXWohht",
        "outputId": "ed3a26e6-2844-4136-b85f-6273bc483696"
      },
      "execution_count": null,
      "outputs": [
        {
          "output_type": "stream",
          "name": "stdout",
          "text": [
            "50 55\n"
          ]
        }
      ]
    },
    {
      "cell_type": "code",
      "source": [
        "print(x,y)"
      ],
      "metadata": {
        "colab": {
          "base_uri": "https://localhost:8080/"
        },
        "id": "on9Rn5JTpUaF",
        "outputId": "c851d6bd-2b40-4da8-ee0a-0d8d271f785f"
      },
      "execution_count": null,
      "outputs": [
        {
          "output_type": "stream",
          "name": "stdout",
          "text": [
            "50 55\n"
          ]
        }
      ]
    },
    {
      "cell_type": "code",
      "source": [
        "a=input (\"value\")\n",
        "a=10\n",
        "b=10/2\n",
        "print (a,b)"
      ],
      "metadata": {
        "colab": {
          "base_uri": "https://localhost:8080/"
        },
        "id": "JfHEcNNQpd1y",
        "outputId": "00b3304f-11a4-4f4b-a238-8de2ad915bd7"
      },
      "execution_count": null,
      "outputs": [
        {
          "output_type": "stream",
          "name": "stdout",
          "text": [
            "value10\n",
            "10 5.0\n"
          ]
        }
      ]
    },
    {
      "cell_type": "code",
      "source": [
        "Qc=int(input (\"enter your class\"))\n",
        "print (\"my class is \",c)"
      ],
      "metadata": {
        "colab": {
          "base_uri": "https://localhost:8080/"
        },
        "id": "y6NbCScKqjUK",
        "outputId": "2112c56f-a889-4e39-edbd-9d1045ac364a"
      },
      "execution_count": null,
      "outputs": [
        {
          "output_type": "stream",
          "name": "stdout",
          "text": [
            "enter your class10\n",
            "my class is  10\n"
          ]
        }
      ]
    },
    {
      "cell_type": "code",
      "source": [
        "c=input (\"enter your class\")\n",
        "print (\"last year you were in class\",c)"
      ],
      "metadata": {
        "colab": {
          "base_uri": "https://localhost:8080/"
        },
        "id": "YSMaVJIYv3Kt",
        "outputId": "e0c86735-a91f-4eef-a6b3-af37baa78064"
      },
      "execution_count": null,
      "outputs": [
        {
          "output_type": "stream",
          "name": "stdout",
          "text": [
            "enter your classC-1\n",
            "last year you were in class C-1\n"
          ]
        }
      ]
    },
    {
      "cell_type": "code",
      "source": [
        "a,b,c=2,3,4\n",
        "a,b,c=a*a,a*b,a*c\n",
        "print (a,b,c)"
      ],
      "metadata": {
        "colab": {
          "base_uri": "https://localhost:8080/"
        },
        "id": "7kdt-SVczT27",
        "outputId": "81f86359-70be-429e-fa63-2d083cbd30e9"
      },
      "execution_count": null,
      "outputs": [
        {
          "output_type": "stream",
          "name": "stdout",
          "text": [
            "4 6 8\n"
          ]
        }
      ]
    },
    {
      "cell_type": "code",
      "source": [
        "num=13\n",
        "print (id(num))\n",
        "num=num+3\n",
        "print (id(num))\n",
        "num=num+3\n",
        "print (id(num))\n",
        "num=\"hello\"\n",
        "print (id(num))"
      ],
      "metadata": {
        "colab": {
          "base_uri": "https://localhost:8080/"
        },
        "id": "h9i2p5ozzvxu",
        "outputId": "af9dd6ad-3dcb-4723-a751-ad6730e33220"
      },
      "execution_count": null,
      "outputs": [
        {
          "output_type": "stream",
          "name": "stdout",
          "text": [
            "9793472\n",
            "9793568\n",
            "9793664\n",
            "140032932960304\n"
          ]
        }
      ]
    },
    {
      "cell_type": "code",
      "source": [
        "name=input (\"what is your name\")\n",
        "print (\"hi\", name)\n",
        "print (\"how are you doing\")\n",
        "print (\"hi\",name,\"how are you doing\")"
      ],
      "metadata": {
        "id": "Sc3W9vOX3ULI",
        "colab": {
          "base_uri": "https://localhost:8080/"
        },
        "outputId": "7235e0de-1c69-4eaf-a4b6-459662fbae2a"
      },
      "execution_count": null,
      "outputs": [
        {
          "output_type": "stream",
          "name": "stdout",
          "text": [
            "what is your nameSanthiya \n",
            "hi Santhiya \n",
            "how are you doing\n",
            "hi Santhiya  how are you doing\n"
          ]
        }
      ]
    },
    {
      "cell_type": "code",
      "source": [
        "y=float (input (\"enter the value 1\"))\n",
        "print (float (input (\"value 1\")))\n",
        "print (\"entered value is\", float,(input (\"enter the value1\")))"
      ],
      "metadata": {
        "colab": {
          "base_uri": "https://localhost:8080/"
        },
        "id": "YECMSYRxbOId",
        "outputId": "68d0c13b-6650-434d-fd8a-a185cf2a85e7"
      },
      "execution_count": null,
      "outputs": [
        {
          "output_type": "stream",
          "name": "stdout",
          "text": [
            "enter the value 111.5\n",
            "value 111.5\n",
            "11.5\n",
            "enter the value111.5\n",
            "entered value is <class 'float'> 11.5\n"
          ]
        }
      ]
    },
    {
      "cell_type": "code",
      "source": [
        "y=float (input (\"enter the value\"))"
      ],
      "metadata": {
        "colab": {
          "base_uri": "https://localhost:8080/"
        },
        "id": "n24aEMHIcc7e",
        "outputId": "d5914906-78a0-4794-9c1b-79053d689512"
      },
      "execution_count": null,
      "outputs": [
        {
          "name": "stdout",
          "output_type": "stream",
          "text": [
            "enter the value1.5\n"
          ]
        }
      ]
    },
    {
      "cell_type": "code",
      "source": [
        "print (y)"
      ],
      "metadata": {
        "colab": {
          "base_uri": "https://localhost:8080/"
        },
        "id": "lWAei6okcmDp",
        "outputId": "b9bb4866-93ef-40aa-946b-a761a6e9ec3e"
      },
      "execution_count": null,
      "outputs": [
        {
          "output_type": "stream",
          "name": "stdout",
          "text": [
            "1.5\n"
          ]
        }
      ]
    },
    {
      "cell_type": "code",
      "source": [
        "print (\"entered value is\", float, (input(\"enter the value\")))"
      ],
      "metadata": {
        "colab": {
          "base_uri": "https://localhost:8080/"
        },
        "id": "IfF6FNQzcuD4",
        "outputId": "42694d76-b31e-4b59-d592-515b9d447add"
      },
      "execution_count": null,
      "outputs": [
        {
          "output_type": "stream",
          "name": "stdout",
          "text": [
            "enter the value1.5\n",
            "entered value is <class 'float'> 1.5\n"
          ]
        }
      ]
    },
    {
      "cell_type": "code",
      "source": [
        "print (\"entered value is\",y,(input (\"enter the value\")))"
      ],
      "metadata": {
        "colab": {
          "base_uri": "https://localhost:8080/"
        },
        "id": "Q9McI6wlfD11",
        "outputId": "23b9a8c2-bc41-4cde-867d-9f37b15c230c"
      },
      "execution_count": null,
      "outputs": [
        {
          "output_type": "stream",
          "name": "stdout",
          "text": [
            "enter the value1.5\n",
            "entered value is 1.5 1.5\n"
          ]
        }
      ]
    },
    {
      "cell_type": "code",
      "source": [
        "#in and not in"
      ],
      "metadata": {
        "id": "zVt7qRLNk4Mk"
      },
      "execution_count": null,
      "outputs": []
    },
    {
      "cell_type": "code",
      "source": [
        "\"se\"in\"rose\""
      ],
      "metadata": {
        "colab": {
          "base_uri": "https://localhost:8080/"
        },
        "id": "3KAKnw20k9vs",
        "outputId": "dee57835-305c-49f8-bda4-17320d377ac7"
      },
      "execution_count": null,
      "outputs": [
        {
          "output_type": "execute_result",
          "data": {
            "text/plain": [
              "True"
            ]
          },
          "metadata": {},
          "execution_count": 14
        }
      ]
    },
    {
      "cell_type": "code",
      "source": [
        "\"iya\"in\"sandhy\""
      ],
      "metadata": {
        "colab": {
          "base_uri": "https://localhost:8080/"
        },
        "id": "-wW6QYeOlC9o",
        "outputId": "1d45763d-db7d-42bd-8015-810fbc76be36"
      },
      "execution_count": null,
      "outputs": [
        {
          "output_type": "execute_result",
          "data": {
            "text/plain": [
              "False"
            ]
          },
          "metadata": {},
          "execution_count": 15
        }
      ]
    },
    {
      "cell_type": "code",
      "source": [
        "\"line\"not in\"Roslin\""
      ],
      "metadata": {
        "colab": {
          "base_uri": "https://localhost:8080/"
        },
        "id": "WwqOzMj2lXG7",
        "outputId": "671b0fa1-f6d1-4f98-a1e6-a2e08ee94828"
      },
      "execution_count": null,
      "outputs": [
        {
          "output_type": "execute_result",
          "data": {
            "text/plain": [
              "True"
            ]
          },
          "metadata": {},
          "execution_count": 16
        }
      ]
    },
    {
      "cell_type": "code",
      "source": [
        "\"line\"in\"Roselin\""
      ],
      "metadata": {
        "colab": {
          "base_uri": "https://localhost:8080/"
        },
        "id": "bMV3r8Y6li6V",
        "outputId": "23885518-5ca6-4a4e-ddab-e1f8307dc3ee"
      },
      "execution_count": null,
      "outputs": [
        {
          "output_type": "execute_result",
          "data": {
            "text/plain": [
              "False"
            ]
          },
          "metadata": {},
          "execution_count": 18
        }
      ]
    },
    {
      "cell_type": "code",
      "source": [
        "name=\"roselinesanthiya\"\n",
        "name[0]\n",
        "name[1]\n",
        "len(name)\n",
        "print (id(name))"
      ],
      "metadata": {
        "colab": {
          "base_uri": "https://localhost:8080/"
        },
        "id": "88IXBJFolsPg",
        "outputId": "84658626-7d99-4182-81d8-f866b276f181"
      },
      "execution_count": null,
      "outputs": [
        {
          "output_type": "stream",
          "name": "stdout",
          "text": [
            "140453390488240\n"
          ]
        }
      ]
    },
    {
      "cell_type": "code",
      "source": [
        "10<12&100>10"
      ],
      "metadata": {
        "colab": {
          "base_uri": "https://localhost:8080/"
        },
        "id": "v2O7UfJ_EIFZ",
        "outputId": "bba19870-b711-4e8d-a3f7-b65f70da9ef5"
      },
      "execution_count": null,
      "outputs": [
        {
          "output_type": "execute_result",
          "data": {
            "text/plain": [
              "False"
            ]
          },
          "metadata": {},
          "execution_count": 34
        }
      ]
    },
    {
      "cell_type": "code",
      "source": [
        "15==15|10<15"
      ],
      "metadata": {
        "colab": {
          "base_uri": "https://localhost:8080/"
        },
        "id": "FoEH22lYEV0_",
        "outputId": "0865322c-10e9-47da-91a2-6b3f431d049a"
      },
      "execution_count": null,
      "outputs": [
        {
          "output_type": "execute_result",
          "data": {
            "text/plain": [
              "False"
            ]
          },
          "metadata": {},
          "execution_count": 38
        }
      ]
    },
    {
      "cell_type": "code",
      "source": [
        "10!=10"
      ],
      "metadata": {
        "colab": {
          "base_uri": "https://localhost:8080/"
        },
        "id": "WClNRMtRE8p3",
        "outputId": "9884add4-b676-4853-e93d-85d2b208280e"
      },
      "execution_count": null,
      "outputs": [
        {
          "output_type": "execute_result",
          "data": {
            "text/plain": [
              "False"
            ]
          },
          "metadata": {},
          "execution_count": 39
        }
      ]
    }
  ]
}